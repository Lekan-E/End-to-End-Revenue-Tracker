{
 "cells": [
  {
   "cell_type": "code",
   "execution_count": 1,
   "metadata": {},
   "outputs": [],
   "source": [
    "# Database connector \n",
    "import mysql.connector\n",
    "from mysql.connector import Error\n",
    "\n",
    "import pandas as pd\n",
    "import re\n",
    "import numpy as np"
   ]
  },
  {
   "cell_type": "code",
   "execution_count": 2,
   "metadata": {},
   "outputs": [
    {
     "name": "stdout",
     "output_type": "stream",
     "text": [
      "Successful\n"
     ]
    }
   ],
   "source": [
    "# Connect to the database\n",
    "connection = mysql.connector.connect(\n",
    "    host = 'elegbede.mysql.database.azure.com',\n",
    "    port = 3306,\n",
    "    user = '##',\n",
    "    password = '##',\n",
    "    database = 'cyclistic_db'\n",
    ")\n",
    "\n",
    "# Function to execute a SQL query \n",
    "def execute_query(connection, query):\n",
    "    cursor = connection.cursor()\n",
    "    try:\n",
    "        cursor.execute(query)\n",
    "        connection.commit()\n",
    "        print(\"Successful\")\n",
    "    except Error as err:\n",
    "        print(f\"Error: '{err}'\")\n",
    "\n",
    "# Read and Run Query\n",
    "def read_query(connection, query):\n",
    "    cursor = connection.cursor()\n",
    "    result = None\n",
    "    try:\n",
    "        cursor.execute(query)\n",
    "        result = cursor.fetchall() # Reads data from the database without making any changes to it.\n",
    "        return result\n",
    "    except Error as err:\n",
    "        print(f'Error: \"{err}\"')\n",
    "\n",
    "# Use DB\n",
    "execute_query(connection, \"\"\"USE cyclistic_db\"\"\")\n"
   ]
  },
  {
   "cell_type": "code",
   "execution_count": 3,
   "metadata": {},
   "outputs": [
    {
     "name": "stdout",
     "output_type": "stream",
     "text": [
      "<class 'pandas.core.frame.DataFrame'>\n",
      "RangeIndex: 5738812 entries, 0 to 5738811\n",
      "Data columns (total 13 columns):\n",
      " #   Column              Dtype         \n",
      "---  ------              -----         \n",
      " 0   ride_id             object        \n",
      " 1   rideable_type       object        \n",
      " 2   started_at          datetime64[ns]\n",
      " 3   ended_at            datetime64[ns]\n",
      " 4   start_station_name  object        \n",
      " 5   start_station_id    float64       \n",
      " 6   end_station_name    object        \n",
      " 7   end_station_id      float64       \n",
      " 8   start_lat           object        \n",
      " 9   start_lng           object        \n",
      " 10  end_lat             object        \n",
      " 11  end_lng             object        \n",
      " 12  member_casual       object        \n",
      "dtypes: datetime64[ns](2), float64(2), object(9)\n",
      "memory usage: 569.2+ MB\n"
     ]
    }
   ],
   "source": [
    "# Read data from the database and store as a dataframe\n",
    "combined_months = read_query(connection, \"SELECT * FROM combined_months;\")\n",
    "\n",
    "# Convert to a dataframe\n",
    "df_months = pd.DataFrame(combined_months)\n",
    "\n",
    "# Set columns\n",
    "df_months.columns = ['ride_id', 'rideable_type', 'started_at', 'ended_at', \n",
    "    'start_station_name', 'start_station_id', 'end_station_name', \n",
    "    'end_station_id', 'start_lat', 'start_lng', \n",
    "    'end_lat', 'end_lng', 'member_casual']\n",
    "\n",
    "df_months.info()"
   ]
  },
  {
   "cell_type": "markdown",
   "metadata": {},
   "source": [
    "### Data Preparation"
   ]
  },
  {
   "cell_type": "markdown",
   "metadata": {},
   "source": [
    "Drop Duplicates"
   ]
  },
  {
   "cell_type": "code",
   "execution_count": 4,
   "metadata": {},
   "outputs": [
    {
     "name": "stdout",
     "output_type": "stream",
     "text": [
      "Number of duplicate ride_ids: 209\n",
      "No. duplicates after dropping: 0\n"
     ]
    }
   ],
   "source": [
    "df = df_months\n",
    "\n",
    "# Handle and drop duplicates\n",
    "print('Number of duplicate ride_ids:',df['ride_id'].duplicated().sum())\n",
    "df = df.drop_duplicates(subset=['ride_id'])\n",
    "print('No. duplicates after dropping:', df['ride_id'].duplicated().sum())"
   ]
  },
  {
   "cell_type": "markdown",
   "metadata": {},
   "source": [
    "Handle Null Rows"
   ]
  },
  {
   "cell_type": "code",
   "execution_count": 5,
   "metadata": {},
   "outputs": [
    {
     "data": {
      "text/plain": [
       "ride_id               0\n",
       "rideable_type         0\n",
       "started_at            0\n",
       "ended_at              0\n",
       "start_station_name    0\n",
       "start_station_id      0\n",
       "end_station_name      0\n",
       "end_station_id        0\n",
       "start_lat             0\n",
       "start_lng             0\n",
       "end_lat               0\n",
       "end_lng               0\n",
       "member_casual         0\n",
       "dtype: int64"
      ]
     },
     "execution_count": 5,
     "metadata": {},
     "output_type": "execute_result"
    }
   ],
   "source": [
    "# Drop rows without start and end time information\n",
    "df = df.dropna(subset= ['started_at','ended_at'])\n",
    "\n",
    "df = df.sort_values(by=['start_lat','start_lng'], ascending=True)\n",
    "\n",
    "# Forward fill the missing start_station_name and start_station_id\n",
    "df[['start_station_name', 'start_station_id']] = df[['start_station_name', 'start_station_id']].ffill().bfill()\n",
    "\n",
    "# Fill the end stations\n",
    "df = df.sort_values(by=['end_lat','end_lng'], ascending=True)\n",
    "# Forward fill the missing start_station_name and start_station_id\n",
    "df[['end_station_name', 'end_station_id','end_lat','end_lng']] = df[['end_station_name', 'end_station_id','end_lat','end_lng']].ffill().bfill()\n",
    "\n",
    "df.isnull().sum()"
   ]
  },
  {
   "cell_type": "markdown",
   "metadata": {},
   "source": [
    "Data Extraction"
   ]
  },
  {
   "cell_type": "code",
   "execution_count": 6,
   "metadata": {},
   "outputs": [],
   "source": [
    "df_clean = df\n",
    "\n",
    "# Convert to date time\n",
    "df_clean['started_at'] = pd.to_datetime(df_clean['started_at'],format='%Y-%m-%d %H:%M:%S')\n",
    "df_clean['ended_at'] = pd.to_datetime(df_clean['ended_at'],format='%Y-%m-%d %H:%M:%S')\n",
    "\n",
    "# Find the ride duration in seconds\n",
    "df_clean['ride_duration'] = (df_clean['ended_at']-df_clean['started_at']).dt.total_seconds()"
   ]
  },
  {
   "cell_type": "markdown",
   "metadata": {},
   "source": [
    "Remove outliers"
   ]
  },
  {
   "cell_type": "code",
   "execution_count": 7,
   "metadata": {},
   "outputs": [
    {
     "name": "stdout",
     "output_type": "stream",
     "text": [
      "Interquartile range: 915.0\n",
      "Lower Bound: -962.5\n",
      "Upper Bound: 2697.5\n",
      "Mean: 1273.7119174442303\n",
      "No of data points after cleaning: 5176939\n"
     ]
    }
   ],
   "source": [
    "p25 = df_clean['ride_duration'].quantile(0.25) # 25th percentile\n",
    "p50 = df_clean['ride_duration'].quantile(0.5) # 50th percentile\n",
    "p75 = df_clean['ride_duration'].quantile(0.75) # 75th percentile\n",
    "\n",
    "# Interquartile range\n",
    "iqr = p75 - p25\n",
    "print(f'Interquartile range: {iqr}')\n",
    "\n",
    "# Lower Limit\n",
    "lower_bound  = p25 - 1.5 * iqr\n",
    "print(f'Lower Bound: {lower_bound}')\n",
    "\n",
    "# Upper Limit\n",
    "upper_bound = p75 + 1.5 * iqr\n",
    "print(f'Upper Bound: {upper_bound}')\n",
    "\n",
    "# Mean\n",
    "print(f'Mean: {df_clean['ride_duration'].mean()}')\n",
    "\n",
    "# Eliminate outliers above the upper bound and negative ride durations\n",
    "df_clean = df_clean[(df_clean['ride_duration'] >= 0) & (df_clean['ride_duration'] <= upper_bound)]\n",
    "\n",
    "print(f'No of data points after cleaning: {df_clean.shape[0]}')"
   ]
  },
  {
   "cell_type": "markdown",
   "metadata": {},
   "source": [
    "Save the dataframe and export to MySQL Database"
   ]
  },
  {
   "cell_type": "code",
   "execution_count": 8,
   "metadata": {},
   "outputs": [],
   "source": [
    "# Export\n",
    "data = df_clean.sort_values(by=['started_at','ended_at']).reset_index(drop=True)\n",
    "\n",
    "data['start_station_id'] = data['start_station_id'].astype(int)\n",
    "data['end_station_id'] = data['end_station_id'].astype(int)"
   ]
  },
  {
   "cell_type": "markdown",
   "metadata": {},
   "source": [
    "#### Calculate revenue generated from each ride\n",
    "- Members:\n",
    "Unlocking Fee = $0\n",
    "Classic Bike  = $0.17/minute\n",
    "Electric Bike = $0.17/minute\n",
    "Docked Bike = $0.20/minute\n",
    "\n",
    "- Casual:\n",
    "Unlocking Fee = $1.35\n",
    "Classic Bike  = $0.20/minute\n",
    "Electric Bike = $0.35/minute\n",
    "Docked Bike = $0.40/minute"
   ]
  },
  {
   "cell_type": "code",
   "execution_count": 10,
   "metadata": {},
   "outputs": [
    {
     "data": {
      "text/html": [
       "<div>\n",
       "<style scoped>\n",
       "    .dataframe tbody tr th:only-of-type {\n",
       "        vertical-align: middle;\n",
       "    }\n",
       "\n",
       "    .dataframe tbody tr th {\n",
       "        vertical-align: top;\n",
       "    }\n",
       "\n",
       "    .dataframe thead th {\n",
       "        text-align: right;\n",
       "    }\n",
       "</style>\n",
       "<table border=\"1\" class=\"dataframe\">\n",
       "  <thead>\n",
       "    <tr style=\"text-align: right;\">\n",
       "      <th></th>\n",
       "      <th>rideable_type</th>\n",
       "      <th>member_casual</th>\n",
       "      <th>ride_duration</th>\n",
       "      <th>revenue</th>\n",
       "    </tr>\n",
       "  </thead>\n",
       "  <tbody>\n",
       "    <tr>\n",
       "      <th>5138136</th>\n",
       "      <td>electric_bike</td>\n",
       "      <td>casual</td>\n",
       "      <td>139.0</td>\n",
       "      <td>2.160833</td>\n",
       "    </tr>\n",
       "    <tr>\n",
       "      <th>4881348</th>\n",
       "      <td>classic_bike</td>\n",
       "      <td>member</td>\n",
       "      <td>278.0</td>\n",
       "      <td>0.787667</td>\n",
       "    </tr>\n",
       "    <tr>\n",
       "      <th>3116841</th>\n",
       "      <td>classic_bike</td>\n",
       "      <td>casual</td>\n",
       "      <td>1607.0</td>\n",
       "      <td>6.706667</td>\n",
       "    </tr>\n",
       "    <tr>\n",
       "      <th>1961936</th>\n",
       "      <td>classic_bike</td>\n",
       "      <td>member</td>\n",
       "      <td>547.0</td>\n",
       "      <td>1.549833</td>\n",
       "    </tr>\n",
       "    <tr>\n",
       "      <th>2693966</th>\n",
       "      <td>electric_bike</td>\n",
       "      <td>member</td>\n",
       "      <td>210.0</td>\n",
       "      <td>0.595000</td>\n",
       "    </tr>\n",
       "    <tr>\n",
       "      <th>5008624</th>\n",
       "      <td>electric_bike</td>\n",
       "      <td>casual</td>\n",
       "      <td>385.0</td>\n",
       "      <td>3.595833</td>\n",
       "    </tr>\n",
       "    <tr>\n",
       "      <th>3430285</th>\n",
       "      <td>classic_bike</td>\n",
       "      <td>member</td>\n",
       "      <td>494.0</td>\n",
       "      <td>1.399667</td>\n",
       "    </tr>\n",
       "    <tr>\n",
       "      <th>1032124</th>\n",
       "      <td>electric_bike</td>\n",
       "      <td>member</td>\n",
       "      <td>347.0</td>\n",
       "      <td>0.983167</td>\n",
       "    </tr>\n",
       "    <tr>\n",
       "      <th>41925</th>\n",
       "      <td>docked_bike</td>\n",
       "      <td>member</td>\n",
       "      <td>623.0</td>\n",
       "      <td>2.076667</td>\n",
       "    </tr>\n",
       "    <tr>\n",
       "      <th>2023634</th>\n",
       "      <td>electric_bike</td>\n",
       "      <td>member</td>\n",
       "      <td>1630.0</td>\n",
       "      <td>4.618333</td>\n",
       "    </tr>\n",
       "  </tbody>\n",
       "</table>\n",
       "</div>"
      ],
      "text/plain": [
       "         rideable_type member_casual  ride_duration   revenue\n",
       "5138136  electric_bike        casual          139.0  2.160833\n",
       "4881348   classic_bike        member          278.0  0.787667\n",
       "3116841   classic_bike        casual         1607.0  6.706667\n",
       "1961936   classic_bike        member          547.0  1.549833\n",
       "2693966  electric_bike        member          210.0  0.595000\n",
       "5008624  electric_bike        casual          385.0  3.595833\n",
       "3430285   classic_bike        member          494.0  1.399667\n",
       "1032124  electric_bike        member          347.0  0.983167\n",
       "41925      docked_bike        member          623.0  2.076667\n",
       "2023634  electric_bike        member         1630.0  4.618333"
      ]
     },
     "execution_count": 10,
     "metadata": {},
     "output_type": "execute_result"
    }
   ],
   "source": [
    "def add_revenue(row):\n",
    "\n",
    "    ride_duration_mins = row['ride_duration']/60\n",
    "\n",
    "    if row['member_casual'] == 'casual':\n",
    "\n",
    "        unlocking_fee = 1.35 # Casual unlocking fee\n",
    "        if row['rideable_type'] == 'electric_bike':\n",
    "            return unlocking_fee + 0.35 * ride_duration_mins\n",
    "        elif row['rideable_type'] == 'classic_bike':\n",
    "            return unlocking_fee + 0.20 * ride_duration_mins\n",
    "        elif row['rideable_type'] == 'docked_bike':\n",
    "            return unlocking_fee + 0.40 * ride_duration_mins\n",
    "        else:\n",
    "            return 0\n",
    "        \n",
    "    elif row['member_casual'] == 'member':\n",
    "        if row['rideable_type'] == 'electric_bike':\n",
    "            return 0.17 * ride_duration_mins\n",
    "        elif row['rideable_type'] == 'classic_bike':\n",
    "            return 0.17 * ride_duration_mins\n",
    "        elif row['rideable_type'] == 'docked_bike':\n",
    "            return 0.20 * ride_duration_mins\n",
    "        else:\n",
    "            return 0\n",
    "    else:\n",
    "        return None\n",
    "\n",
    "data['revenue'] = data.apply(add_revenue, axis = 1)\n",
    "\n",
    "data[['rideable_type','member_casual','ride_duration','revenue']].sample(10)\n",
    "    "
   ]
  },
  {
   "cell_type": "code",
   "execution_count": 11,
   "metadata": {},
   "outputs": [],
   "source": [
    "# Close connection\n",
    "connection.close()"
   ]
  }
 ],
 "metadata": {
  "kernelspec": {
   "display_name": "Python 3",
   "language": "python",
   "name": "python3"
  },
  "language_info": {
   "codemirror_mode": {
    "name": "ipython",
    "version": 3
   },
   "file_extension": ".py",
   "mimetype": "text/x-python",
   "name": "python",
   "nbconvert_exporter": "python",
   "pygments_lexer": "ipython3",
   "version": "3.12.4"
  }
 },
 "nbformat": 4,
 "nbformat_minor": 2
}
